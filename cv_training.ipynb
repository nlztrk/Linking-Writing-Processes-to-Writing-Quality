{
 "cells": [
  {
   "cell_type": "code",
   "execution_count": 1,
   "id": "69f0f515",
   "metadata": {
    "scrolled": true
   },
   "outputs": [],
   "source": [
    "# !pip install textstat textblob pandarallel unidecode polars==0.19.13"
   ]
  },
  {
   "cell_type": "code",
   "execution_count": 2,
   "id": "a5962ca8",
   "metadata": {},
   "outputs": [
    {
     "name": "stdout",
     "output_type": "stream",
     "text": [
      "INFO: Pandarallel will run on 8 workers.\n",
      "INFO: Pandarallel will use Memory file system to transfer data between the main process and workers.\n"
     ]
    }
   ],
   "source": [
    "from sklearn.metrics import mean_squared_error\n",
    "from catboost import CatBoostRegressor\n",
    "import lightgbm as lgb\n",
    "from tqdm.auto import tqdm\n",
    "import re\n",
    "import pandas as pd\n",
    "import numpy as np\n",
    "import spacy\n",
    "import string\n",
    "from sklearn.metrics import mean_squared_error\n",
    "from utils import TextProcessor, RawProcessor, revealing_text\n",
    "from sklearn.model_selection import StratifiedKFold, KFold, RepeatedKFold\n",
    "\n",
    "import polars as pl\n",
    "\n",
    "from pandarallel import pandarallel\n",
    "pandarallel.initialize(progress_bar=True)\n",
    "\n",
    "import warnings\n",
    "warnings.filterwarnings('ignore')"
   ]
  },
  {
   "cell_type": "code",
   "execution_count": 3,
   "id": "1924ac7b",
   "metadata": {},
   "outputs": [],
   "source": [
    "train_scores = pd.read_csv('../raw_data/train_scores.csv')\n",
    "raw_df = pd.read_csv(\"../raw_data/train_logs.csv\")"
   ]
  },
  {
   "cell_type": "code",
   "execution_count": 4,
   "id": "571a29e8",
   "metadata": {
    "scrolled": true
   },
   "outputs": [
    {
     "name": "stdout",
     "output_type": "stream",
     "text": [
      "Creating kpps features...\n",
      "Creating event-count features...\n",
      "Creating numerical-categorical aggregation features...\n",
      "Creating pause features...\n",
      "Creating PR-Burst features...\n"
     ]
    }
   ],
   "source": [
    "train_raw_feats = RawProcessor(raw_df)"
   ]
  },
  {
   "cell_type": "code",
   "execution_count": 5,
   "id": "0d8b196c",
   "metadata": {},
   "outputs": [
    {
     "data": {
      "application/vnd.jupyter.widget-view+json": {
       "model_id": "b5955376a2f94b07a5c466690dcf72f3",
       "version_major": 2,
       "version_minor": 0
      },
      "text/plain": [
       "VBox(children=(HBox(children=(IntProgress(value=0, description='0.00%', max=309), Label(value='0 / 309'))), HB…"
      ]
     },
     "metadata": {},
     "output_type": "display_data"
    }
   ],
   "source": [
    "reveal_results = raw_df.groupby(\"id\").parallel_apply(revealing_text)\n",
    "df = pd.DataFrame(reveal_results.tolist(), columns=[\"id\", \"revealed_text\"])\n",
    "df = df.merge(train_scores, how=\"left\", on=\"id\")"
   ]
  },
  {
   "cell_type": "code",
   "execution_count": 6,
   "id": "0832c690",
   "metadata": {},
   "outputs": [
    {
     "name": "stdout",
     "output_type": "stream",
     "text": [
      "creating complete features\n"
     ]
    }
   ],
   "source": [
    "df = TextProcessor(df)"
   ]
  },
  {
   "cell_type": "code",
   "execution_count": 7,
   "id": "2d5afaf8",
   "metadata": {
    "scrolled": true
   },
   "outputs": [],
   "source": [
    "df = df.merge(train_raw_feats, how=\"left\", on=\"id\")"
   ]
  },
  {
   "cell_type": "code",
   "execution_count": 8,
   "id": "4d644812",
   "metadata": {},
   "outputs": [],
   "source": [
    "df[\"text_length_timeratio\"] = df[\"text_length\"] / (df[\"up_time_max\"] / 1000)"
   ]
  },
  {
   "cell_type": "markdown",
   "id": "4ef9d9c7",
   "metadata": {},
   "source": [
    "## Train"
   ]
  },
  {
   "cell_type": "code",
   "execution_count": 9,
   "id": "b8b1e74e",
   "metadata": {},
   "outputs": [],
   "source": [
    "feature_cols = df.drop([\"id\", \"revealed_text\", \"score\", \"word\", \"sent\", \"paragraph\"], axis=1).columns\n",
    "label = \"score\""
   ]
  },
  {
   "cell_type": "code",
   "execution_count": 10,
   "id": "0e703454",
   "metadata": {},
   "outputs": [
    {
     "name": "stdout",
     "output_type": "stream",
     "text": [
      "Started the lgbm model...\n"
     ]
    },
    {
     "data": {
      "application/vnd.jupyter.widget-view+json": {
       "model_id": "4597dc5c582a4c9d8b3e1066f82f97b9",
       "version_major": 2,
       "version_minor": 0
      },
      "text/plain": [
       "0it [00:00, ?it/s]"
      ]
     },
     "metadata": {},
     "output_type": "display_data"
    },
    {
     "name": "stdout",
     "output_type": "stream",
     "text": [
      "Fold: 0 - Score: 0.57585\n",
      "Fold: 1 - Score: 0.61747\n",
      "Fold: 2 - Score: 0.53880\n",
      "Fold: 3 - Score: 0.59232\n",
      "Fold: 4 - Score: 0.63189\n",
      "Fold: 5 - Score: 0.58217\n",
      "Fold: 6 - Score: 0.60365\n",
      "Fold: 7 - Score: 0.60724\n",
      "Fold: 8 - Score: 0.67683\n",
      "Fold: 9 - Score: 0.60274\n",
      "lgbm cv_score:  0.60387\n",
      "Started the xgboost model...\n"
     ]
    },
    {
     "data": {
      "application/vnd.jupyter.widget-view+json": {
       "model_id": "0550c61982c44277b191c40b3b9c702b",
       "version_major": 2,
       "version_minor": 0
      },
      "text/plain": [
       "0it [00:00, ?it/s]"
      ]
     },
     "metadata": {},
     "output_type": "display_data"
    },
    {
     "name": "stdout",
     "output_type": "stream",
     "text": [
      "Fold: 0 - Score: 0.56781\n",
      "Fold: 1 - Score: 0.60417\n",
      "Fold: 2 - Score: 0.54103\n",
      "Fold: 3 - Score: 0.59197\n",
      "Fold: 4 - Score: 0.62732\n",
      "Fold: 5 - Score: 0.57899\n",
      "Fold: 6 - Score: 0.59706\n",
      "Fold: 7 - Score: 0.61034\n",
      "Fold: 8 - Score: 0.66691\n",
      "Fold: 9 - Score: 0.59887\n",
      "xgboost cv_score:  0.5993\n",
      "Started the catboost model...\n"
     ]
    },
    {
     "data": {
      "application/vnd.jupyter.widget-view+json": {
       "model_id": "0c04783eb09043b9a49ccdced5713689",
       "version_major": 2,
       "version_minor": 0
      },
      "text/plain": [
       "0it [00:00, ?it/s]"
      ]
     },
     "metadata": {},
     "output_type": "display_data"
    },
    {
     "name": "stdout",
     "output_type": "stream",
     "text": [
      "Fold: 0 - Score: 0.56605\n",
      "Fold: 1 - Score: 0.59448\n",
      "Fold: 2 - Score: 0.52762\n",
      "Fold: 3 - Score: 0.58715\n",
      "Fold: 4 - Score: 0.61978\n",
      "Fold: 5 - Score: 0.58302\n",
      "Fold: 6 - Score: 0.59529\n",
      "Fold: 7 - Score: 0.60183\n",
      "Fold: 8 - Score: 0.66257\n",
      "Fold: 9 - Score: 0.60102\n",
      "catboost cv_score:  0.59478\n"
     ]
    }
   ],
   "source": [
    "from collections import defaultdict\n",
    "from lightgbm import LGBMRegressor\n",
    "from catboost import CatBoostRegressor\n",
    "import xgboost as xgb\n",
    "from sklearn.metrics import mean_squared_error\n",
    "from sklearn.preprocessing import StandardScaler\n",
    "\n",
    "rmse = lambda y_true, y_pred: mean_squared_error(y_true, y_pred, squared=False)\n",
    "\n",
    "drop_cols = [\"id\", \"score\", \"fold\"]\n",
    "oof_df = pd.DataFrame()\n",
    "models = defaultdict(list)\n",
    "\n",
    "models_to_ensemble = [\n",
    "    \"lgbm\",\n",
    "    \"xgboost\",\n",
    "    \"catboost\"\n",
    "]\n",
    "\n",
    "model_params = {\n",
    "    \"catboost\":{\n",
    "        'learning_rate': 0.024906985231770738, 'depth': 5, 'l2_leaf_reg': 3.7139894959529283, 'subsample': 0.18527466886647015, 'colsample_bylevel': 0.6552973951000719, 'min_data_in_leaf': 93,\n",
    "                \"silent\": True,\n",
    "                \"iterations\": 1000,\n",
    "                \"random_state\": 1,\n",
    "               \"use_best_model\":False},\n",
    "\n",
    "    \"lgbm\":  {\n",
    "        'reg_alpha': 1.0894488472899402, 'reg_lambda': 6.290929934336985, 'colsample_bytree': 0.6218522907548012, 'subsample': 0.9579924238280629, 'learning_rate': 0.0027076430412427566, 'max_depth': 8, 'num_leaves': 947, 'min_child_samples': 57,\n",
    "        'n_estimators': 2500,\n",
    "        'metric': 'rmse',\n",
    "         'random_state': 42,\n",
    "        'verbosity': -1,\n",
    "        'force_col_wise': True\n",
    "             },\n",
    "    \n",
    "    \"xgboost\": {'max_depth': 2, 'learning_rate': 0.009998236038809146, 'n_estimators': 1000, 'min_child_weight': 17, 'gamma': 0.1288249858838246, 'subsample': 0.5078057280148618, 'colsample_bytree': 0.7355762136239921, 'reg_alpha': 0.670956206987811, 'reg_lambda': 0.06818351284100388, 'random_state': 1,\n",
    "                \"tree_method\": \"gpu_hist\",\n",
    "               }\n",
    "\n",
    "}\n",
    "\n",
    "skf = StratifiedKFold(n_splits=10,random_state=1111111, shuffle=True)\n",
    "splits = list(skf.split(df, df[\"score\"].astype(str)))\n",
    "\n",
    "\n",
    "for idx, model_name in enumerate(models_to_ensemble):\n",
    "    params = model_params[model_name]\n",
    "    oof_folds = pd.DataFrame()\n",
    "    print(f\"Started the {model_name} model...\")\n",
    "    for i, (train_index, test_index) in tqdm(enumerate(splits)):\n",
    "        if model_name == \"lgbm\":\n",
    "            model = LGBMRegressor(**params)\n",
    "        elif model_name == \"xgboost\":\n",
    "            model = xgb.XGBRegressor(**params)\n",
    "        elif model_name == \"catboost\":\n",
    "            model = CatBoostRegressor(**params)\n",
    "        else:\n",
    "            raise ValueError(\"Unknown base model name.\")\n",
    "\n",
    "        x_train, y_train = df.loc[train_index, feature_cols].reset_index(drop=True), df.loc[train_index, label].reset_index(drop=True)\n",
    "        x_valid, y_valid = df.loc[test_index, feature_cols].reset_index(drop=True), df.loc[test_index, label].reset_index(drop=True)\n",
    "        x_valid, y_valid = df.loc[test_index, feature_cols].reset_index(drop=True), df.loc[test_index, label].reset_index(drop=True)\n",
    "        ids = df.loc[test_index, \"id\"].reset_index(drop=True)\n",
    "        \n",
    "        if model_name != \"lgbm\":\n",
    "            model.fit(x_train,\n",
    "                      y_train)\n",
    "        else:\n",
    "            model.fit(x_train,\n",
    "                      y_train,\n",
    "                      callbacks = [lgb.log_evaluation(period=0)]\n",
    "                     )\n",
    "\n",
    "        val_preds = model.predict(x_valid)\n",
    "        \n",
    "        oof_fold = pd.concat(\n",
    "            [ids, y_valid, pd.Series(val_preds)], \n",
    "            axis=1).rename({0: f\"{model_name}_preds\"}, axis=\"columns\")\n",
    "        oof_folds = pd.concat([oof_folds, oof_fold])\n",
    "        models[model_name].append(model)\n",
    "        print(f\"Fold: {i} - Score: {rmse(oof_fold['score'], oof_fold[f'{model_name}_preds']):.5f}\")\n",
    "    \n",
    "    if idx == 0:\n",
    "        oof_df = pd.concat([oof_df, oof_folds])\n",
    "    else:\n",
    "        oof_df[f\"{model_name}_preds\"] = oof_folds[f\"{model_name}_preds\"]\n",
    "    cv_score = rmse(oof_df[\"score\"], oof_df[f\"{model_name}_preds\"])\n",
    "    print(f\"{model_name} cv_score: \", round(cv_score, 5))"
   ]
  },
  {
   "cell_type": "code",
   "execution_count": 11,
   "id": "6f1f492d",
   "metadata": {},
   "outputs": [
    {
     "name": "stdout",
     "output_type": "stream",
     "text": [
      "Optimized Weights: [0.12952723 0.05684494 0.81362782]\n"
     ]
    }
   ],
   "source": [
    "import numpy as np\n",
    "from sklearn.metrics import mean_squared_error\n",
    "from scipy.optimize import minimize\n",
    "\n",
    "pred_cols = [f\"{model_name}_preds\" for model_name in models_to_ensemble]\n",
    "true_targets = oof_df[\"score\"]\n",
    "\n",
    "def objective_function(weights):\n",
    "    ensemble_preds = (oof_df[pred_cols] * weights).sum(axis=1)\n",
    "    score = rmse(oof_df[\"score\"], ensemble_preds)\n",
    "    return score\n",
    "\n",
    "def find_weights(oof_df):\n",
    "    len_models = len(models_to_ensemble)\n",
    "    initial_weights = np.ones(len_models) / len_models\n",
    "    bounds = [(0, 1)] * len_models\n",
    "    result = minimize(objective_function, initial_weights, bounds=bounds, method='SLSQP') # L-BFGS-B\n",
    "    optimized_weights = result.x\n",
    "    optimized_weights /= np.sum(optimized_weights)\n",
    "    return optimized_weights\n",
    "\n",
    "optimized_weights = find_weights(oof_df)\n",
    "print(\"Optimized Weights:\", optimized_weights)"
   ]
  },
  {
   "cell_type": "code",
   "execution_count": 12,
   "id": "dc6f0b2d",
   "metadata": {},
   "outputs": [
    {
     "name": "stdout",
     "output_type": "stream",
     "text": [
      "cv_score with optimized weights:  0.5945\n"
     ]
    }
   ],
   "source": [
    "oof_df[\"ensemble_optimized_preds\"] = (oof_df[pred_cols] * optimized_weights).sum(axis=1)\n",
    "cv_optimized = rmse(oof_df[\"score\"], oof_df[\"ensemble_optimized_preds\"])\n",
    "print(\"cv_score with optimized weights: \", round(cv_optimized, 5))"
   ]
  },
  {
   "cell_type": "code",
   "execution_count": 13,
   "id": "caf1bb19",
   "metadata": {},
   "outputs": [
    {
     "data": {
      "text/plain": [
       "(array([0.12952723, 0.05684494, 0.81362782]), ['lgbm', 'xgboost', 'catboost'])"
      ]
     },
     "execution_count": 13,
     "metadata": {},
     "output_type": "execute_result"
    }
   ],
   "source": [
    "optimized_weights, models_to_ensemble"
   ]
  },
  {
   "cell_type": "code",
   "execution_count": 14,
   "id": "e2b1d39d",
   "metadata": {},
   "outputs": [],
   "source": [
    "import pickle\n",
    "with open('allmodels.mdls', 'wb') as fp:\n",
    "    pickle.dump(models, fp)"
   ]
  }
 ],
 "metadata": {
  "kernelspec": {
   "display_name": "Python 3 (ipykernel)",
   "language": "python",
   "name": "python3"
  },
  "language_info": {
   "codemirror_mode": {
    "name": "ipython",
    "version": 3
   },
   "file_extension": ".py",
   "mimetype": "text/x-python",
   "name": "python",
   "nbconvert_exporter": "python",
   "pygments_lexer": "ipython3",
   "version": "3.8.10"
  }
 },
 "nbformat": 4,
 "nbformat_minor": 5
}
